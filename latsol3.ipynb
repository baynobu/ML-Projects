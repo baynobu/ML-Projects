{
 "cells": [
  {
   "cell_type": "code",
   "execution_count": 1,
   "id": "c6b9879d",
   "metadata": {},
   "outputs": [],
   "source": [
    "import pandas\n",
    "from pandas import DataFrame\n",
    "import matplotlib.pyplot as plt\n",
    "import numpy as np"
   ]
  },
  {
   "cell_type": "code",
   "execution_count": 2,
   "id": "3992161c",
   "metadata": {},
   "outputs": [
    {
     "data": {
      "text/html": [
       "<div>\n",
       "<style scoped>\n",
       "    .dataframe tbody tr th:only-of-type {\n",
       "        vertical-align: middle;\n",
       "    }\n",
       "\n",
       "    .dataframe tbody tr th {\n",
       "        vertical-align: top;\n",
       "    }\n",
       "\n",
       "    .dataframe thead th {\n",
       "        text-align: right;\n",
       "    }\n",
       "</style>\n",
       "<table border=\"1\" class=\"dataframe\">\n",
       "  <thead>\n",
       "    <tr style=\"text-align: right;\">\n",
       "      <th></th>\n",
       "      <th>5.1</th>\n",
       "      <th>3.5</th>\n",
       "      <th>1.4</th>\n",
       "      <th>0.2</th>\n",
       "      <th>1</th>\n",
       "    </tr>\n",
       "  </thead>\n",
       "  <tbody>\n",
       "    <tr>\n",
       "      <th>0</th>\n",
       "      <td>4.9</td>\n",
       "      <td>3.0</td>\n",
       "      <td>1.4</td>\n",
       "      <td>0.2</td>\n",
       "      <td>1</td>\n",
       "    </tr>\n",
       "    <tr>\n",
       "      <th>1</th>\n",
       "      <td>4.7</td>\n",
       "      <td>3.2</td>\n",
       "      <td>1.3</td>\n",
       "      <td>0.2</td>\n",
       "      <td>1</td>\n",
       "    </tr>\n",
       "    <tr>\n",
       "      <th>2</th>\n",
       "      <td>4.6</td>\n",
       "      <td>3.1</td>\n",
       "      <td>1.5</td>\n",
       "      <td>0.2</td>\n",
       "      <td>1</td>\n",
       "    </tr>\n",
       "    <tr>\n",
       "      <th>3</th>\n",
       "      <td>5.0</td>\n",
       "      <td>3.6</td>\n",
       "      <td>1.4</td>\n",
       "      <td>0.2</td>\n",
       "      <td>1</td>\n",
       "    </tr>\n",
       "    <tr>\n",
       "      <th>4</th>\n",
       "      <td>5.4</td>\n",
       "      <td>3.9</td>\n",
       "      <td>1.7</td>\n",
       "      <td>0.4</td>\n",
       "      <td>1</td>\n",
       "    </tr>\n",
       "    <tr>\n",
       "      <th>...</th>\n",
       "      <td>...</td>\n",
       "      <td>...</td>\n",
       "      <td>...</td>\n",
       "      <td>...</td>\n",
       "      <td>...</td>\n",
       "    </tr>\n",
       "    <tr>\n",
       "      <th>144</th>\n",
       "      <td>6.7</td>\n",
       "      <td>3.0</td>\n",
       "      <td>5.2</td>\n",
       "      <td>2.3</td>\n",
       "      <td>3</td>\n",
       "    </tr>\n",
       "    <tr>\n",
       "      <th>145</th>\n",
       "      <td>6.3</td>\n",
       "      <td>2.5</td>\n",
       "      <td>5.0</td>\n",
       "      <td>1.9</td>\n",
       "      <td>3</td>\n",
       "    </tr>\n",
       "    <tr>\n",
       "      <th>146</th>\n",
       "      <td>6.5</td>\n",
       "      <td>3.0</td>\n",
       "      <td>5.2</td>\n",
       "      <td>2.0</td>\n",
       "      <td>3</td>\n",
       "    </tr>\n",
       "    <tr>\n",
       "      <th>147</th>\n",
       "      <td>6.2</td>\n",
       "      <td>3.4</td>\n",
       "      <td>5.4</td>\n",
       "      <td>2.3</td>\n",
       "      <td>3</td>\n",
       "    </tr>\n",
       "    <tr>\n",
       "      <th>148</th>\n",
       "      <td>5.9</td>\n",
       "      <td>3.0</td>\n",
       "      <td>5.1</td>\n",
       "      <td>1.8</td>\n",
       "      <td>3</td>\n",
       "    </tr>\n",
       "  </tbody>\n",
       "</table>\n",
       "<p>149 rows × 5 columns</p>\n",
       "</div>"
      ],
      "text/plain": [
       "     5.1  3.5  1.4  0.2  1\n",
       "0    4.9  3.0  1.4  0.2  1\n",
       "1    4.7  3.2  1.3  0.2  1\n",
       "2    4.6  3.1  1.5  0.2  1\n",
       "3    5.0  3.6  1.4  0.2  1\n",
       "4    5.4  3.9  1.7  0.4  1\n",
       "..   ...  ...  ...  ... ..\n",
       "144  6.7  3.0  5.2  2.3  3\n",
       "145  6.3  2.5  5.0  1.9  3\n",
       "146  6.5  3.0  5.2  2.0  3\n",
       "147  6.2  3.4  5.4  2.3  3\n",
       "148  5.9  3.0  5.1  1.8  3\n",
       "\n",
       "[149 rows x 5 columns]"
      ]
     },
     "execution_count": 2,
     "metadata": {},
     "output_type": "execute_result"
    }
   ],
   "source": [
    "# 1. Print masing masing kolom\n",
    "data = pandas.read_csv(\"irisarray.csv\")\n",
    "#data.iloc[:,[0, 1, 2, 3, 4]]"
   ]
  },
  {
   "cell_type": "code",
   "execution_count": 3,
   "id": "d6372ce6",
   "metadata": {},
   "outputs": [],
   "source": [
    "# 2. Print baris pertama dan terakhir\n",
    "#data.iloc[[0, -1]]"
   ]
  },
  {
   "cell_type": "code",
   "execution_count": 4,
   "id": "2f14521e",
   "metadata": {},
   "outputs": [],
   "source": [
    "# 3. Print 10 baris pertama\n",
    "#data.head(10)"
   ]
  },
  {
   "cell_type": "code",
   "execution_count": 5,
   "id": "cabba8db",
   "metadata": {},
   "outputs": [],
   "source": [
    "# 4. Print 100 baris terakhir\n",
    "#data.tail(100)"
   ]
  },
  {
   "cell_type": "code",
   "execution_count": 6,
   "id": "0662c1df",
   "metadata": {},
   "outputs": [],
   "source": [
    "# 5. Hapus 10 baris pertama\n",
    "#data.iloc[10:]"
   ]
  },
  {
   "cell_type": "code",
   "execution_count": 7,
   "id": "2d9d6737",
   "metadata": {},
   "outputs": [],
   "source": [
    "# 6. Hapus kolom terakhir\n",
    "#data.iloc[:-1]"
   ]
  },
  {
   "cell_type": "code",
   "execution_count": 19,
   "id": "0dca2c3c",
   "metadata": {},
   "outputs": [
    {
     "name": "stdout",
     "output_type": "stream",
     "text": [
      "[5.84832215 3.05100671 3.77449664 1.20536913 2.00671141]\n"
     ]
    }
   ],
   "source": [
    "# 7. Hitung rata-rata setiap kolom\n",
    "#data.mean()\n",
    "#data.describe()\n",
    "\n",
    "sum_data = 0\n",
    "for i in data:\n",
    "    sum_data += i\n",
    "mean = sum_data / len(data)\n",
    "print(mean)"
   ]
  },
  {
   "cell_type": "code",
   "execution_count": 13,
   "id": "a2a14491",
   "metadata": {},
   "outputs": [
    {
     "name": "stdout",
     "output_type": "stream",
     "text": [
      "Jara data pertama dengan data terakhir:  4.6097722286464435\n"
     ]
    }
   ],
   "source": [
    "# 8. Hitung jarak euclidean antara data pertama dengan data terakhir\n",
    "#data = np.array(data)\n",
    "#distance = np.linalg.norm(data[0,:] - data[-1,:])\n",
    "#print(\"Euclidean distance: \", distance)\n",
    "\n",
    "from math import sqrt\n",
    "\n",
    "def euclideandistance(point1, point2):\n",
    "    distance = 0\n",
    "    for i in range(len(point1)):\n",
    "        distance += (point1[i] -  point2[i])**2\n",
    "    return sqrt(distance)\n",
    "\n",
    "fdata = data[0]\n",
    "ldata = data[-1]\n",
    "jarak = euclideandistance(fdata, ldata)\n",
    "print(\"Jara data pertama dengan data terakhir: \", jarak)"
   ]
  },
  {
   "cell_type": "code",
   "execution_count": 17,
   "id": "10fe2c02",
   "metadata": {},
   "outputs": [
    {
     "name": "stdout",
     "output_type": "stream",
     "text": [
      "Jara Euclidean antara data pertama dan seluruh data lainnya adalah:  [4.7, 4.6, 5.0, 5.4, 4.6, 5.0, 4.4, 4.9, 5.4, 4.8, 4.8, 4.3, 5.8, 5.7, 5.4, 5.1, 5.7, 5.1, 5.4, 5.1, 4.6, 5.1, 4.8, 5.0, 5.0, 5.2, 5.2, 4.7, 4.8, 5.4, 5.2, 5.5, 4.9, 5.0, 5.5, 4.9, 4.4, 5.1, 5.0, 4.5, 4.4, 5.0, 5.1, 4.8, 5.1, 4.6, 5.3, 5.0, 7.0, 6.4, 6.9, 5.5, 6.5, 5.7, 6.3, 4.9, 6.6, 5.2, 5.0, 5.9, 6.0, 6.1, 5.6, 6.7, 5.6, 5.8, 6.2, 5.6, 5.9, 6.1, 6.3, 6.1, 6.4, 6.6, 6.8, 6.7, 6.0, 5.7, 5.5, 5.5, 5.8, 6.0, 5.4, 6.0, 6.7, 6.3, 5.6, 5.5, 5.5, 6.1, 5.8, 5.0, 5.6, 5.7, 5.7, 6.2, 5.1, 5.7, 6.3, 5.8, 7.1, 6.3, 6.5, 7.6, 4.9, 7.3, 6.7, 7.2, 6.5, 6.4, 6.8, 5.7, 5.8, 6.4, 6.5, 7.7, 7.7, 6.0, 6.9, 5.6, 7.7, 6.3, 6.7, 7.2, 6.2, 6.1, 6.4, 7.2, 7.4, 7.9, 6.4, 6.3, 6.1, 7.7, 6.3, 6.4, 6.0, 6.9, 6.7, 6.9, 5.8, 6.8, 6.7, 6.7, 6.3, 6.5, 6.2, 5.9]\n"
     ]
    }
   ],
   "source": [
    "# 9. Hitung jarak Euclidean antara data pertama dengan seluruh data lainnya\n",
    "\n",
    "# distance1 = np.linalg.norm(data - data[0,:], axis=1)\n",
    "# print(\"Euclidean distances: \", distance1)\n",
    "\n",
    "data_pertama = [0]\n",
    "jarak_euclidean = []\n",
    "for i in range(1, len(data)):\n",
    "    jarak_euclidean.append(euclideandistance(data_pertama, data[i]))\n",
    "print(\"Jara Euclidean antara data pertama dan seluruh data lainnya adalah: \", jarak_euclidean)"
   ]
  },
  {
   "cell_type": "code",
   "execution_count": 18,
   "id": "9a005dc4",
   "metadata": {},
   "outputs": [
    {
     "name": "stdout",
     "output_type": "stream",
     "text": [
      "Selected data: [[4.9, 3.0, 1.4, 0.2, 1.0], [4.7, 3.2, 1.3, 0.2, 1.0], [4.6, 3.1, 1.5, 0.2, 1.0], [5.0, 3.6, 1.4, 0.2, 1.0], [5.4, 3.9, 1.7, 0.4, 1.0], [4.6, 3.4, 1.4, 0.3, 1.0], [5.0, 3.4, 1.5, 0.2, 1.0], [4.4, 2.9, 1.4, 0.2, 1.0], [4.9, 3.1, 1.5, 0.1, 1.0], [5.4, 3.7, 1.5, 0.2, 1.0], [4.8, 3.4, 1.6, 0.2, 1.0], [4.8, 3.0, 1.4, 0.1, 1.0], [4.3, 3.0, 1.1, 0.1, 1.0], [5.8, 4.0, 1.2, 0.2, 1.0], [5.7, 4.4, 1.5, 0.4, 1.0], [5.4, 3.9, 1.3, 0.4, 1.0], [5.1, 3.5, 1.4, 0.3, 1.0], [5.7, 3.8, 1.7, 0.3, 1.0], [5.1, 3.8, 1.5, 0.3, 1.0], [5.4, 3.4, 1.7, 0.2, 1.0], [5.1, 3.7, 1.5, 0.4, 1.0], [4.6, 3.6, 1.0, 0.2, 1.0], [5.1, 3.3, 1.7, 0.5, 1.0], [4.8, 3.4, 1.9, 0.2, 1.0], [5.0, 3.0, 1.6, 0.2, 1.0], [5.0, 3.4, 1.6, 0.4, 1.0], [5.2, 3.5, 1.5, 0.2, 1.0], [5.2, 3.4, 1.4, 0.2, 1.0], [4.7, 3.2, 1.6, 0.2, 1.0]]\n"
     ]
    }
   ],
   "source": [
    "# 10. Ambil 20% data dari dataset, lalu salin ke dalam sebuah list\n",
    "num_rows = int(0.2 * data.shape[0])\n",
    "selected_data = data[:num_rows,:]\n",
    "selected_data = selected_data.tolist()\n",
    "print(\"Selected data:\", selected_data)"
   ]
  },
  {
   "cell_type": "code",
   "execution_count": null,
   "id": "7e32e8cd",
   "metadata": {},
   "outputs": [],
   "source": []
  }
 ],
 "metadata": {
  "kernelspec": {
   "display_name": "Python 3 (ipykernel)",
   "language": "python",
   "name": "python3"
  },
  "language_info": {
   "codemirror_mode": {
    "name": "ipython",
    "version": 3
   },
   "file_extension": ".py",
   "mimetype": "text/x-python",
   "name": "python",
   "nbconvert_exporter": "python",
   "pygments_lexer": "ipython3",
   "version": "3.9.13"
  }
 },
 "nbformat": 4,
 "nbformat_minor": 5
}
