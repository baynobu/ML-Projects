{
 "cells": [
  {
   "cell_type": "code",
   "execution_count": null,
   "metadata": {
    "id": "wFZ-AtqIzffH"
   },
   "outputs": [],
   "source": [
    "from random import seed\n",
    "from random import randrange\n",
    "from csv import reader\n",
    "from math import sqrt\n"
   ]
  },
  {
   "cell_type": "code",
   "execution_count": null,
   "metadata": {
    "id": "FZpmPu29z3BM"
   },
   "outputs": [],
   "source": [
    "# Load a CSV file\n",
    "def load_csv(filename):\n",
    "  dataset = list()\n",
    "  with open(filename, 'r') as file:\n",
    "    csv_reader = reader(file)\n",
    "    for row in csv_reader:\n",
    "      if not row:\n",
    "        continue\n",
    "      dataset.append(row)\n",
    "  return dataset"
   ]
  },
  {
   "cell_type": "code",
   "execution_count": null,
   "metadata": {
    "id": "yNcyp2-b0O5K"
   },
   "outputs": [],
   "source": [
    "# Conver stiring column to float\n",
    "def str_column_to_float(dataset, column):\n",
    "  for row in dataset:\n",
    "    row[column] = float(row[column].strip())"
   ]
  },
  {
   "cell_type": "code",
   "execution_count": null,
   "metadata": {
    "id": "IxFMMzbi0lCl"
   },
   "outputs": [],
   "source": [
    "# Convert string colum to integer\n",
    "def str_column_to_int(dataset, column):\n",
    "  class_values = [row[column] for row in dataset]\n",
    "  unique = set(class_values)\n",
    "  lookup = dict()\n",
    "  for i, value in enumerate(unique):\n",
    "    lookup[value] = i\n",
    "  for row in dataset:\n",
    "    row[column] = lookup[row[column]]\n",
    "  return lookup"
   ]
  },
  {
   "cell_type": "code",
   "execution_count": null,
   "metadata": {
    "id": "wbL22q7r1Fa0"
   },
   "outputs": [],
   "source": [
    "# Find the min and max values for each column\n",
    "def dataset_minmax(dataset):\n",
    "  minmax = list()\n",
    "  for i in range(len(dataset[0])):\n",
    "    col_values = [row[i] for row in dataset]\n",
    "    value_min = min(col_values)\n",
    "    value_max = max(col_values)\n",
    "    minmax.append([value_min, value_max])\n",
    "  return minmax"
   ]
  },
  {
   "cell_type": "code",
   "execution_count": null,
   "metadata": {
    "id": "zMtI4ugc2APO"
   },
   "outputs": [],
   "source": [
    "# Minmax Scaling - Resclae dataset colums to the range 0-1\n",
    "def normalize_dataset(dataset, minmax):\n",
    "  for row in dataset:\n",
    "    for i in range(len(row)):\n",
    "      row[i] = (row[i] - minmax[i][0]) / (minmax[i][1] - minmax[i][0])\n",
    "  # X_norm = (X - X_min) / (X_max - X_min)"
   ]
  },
  {
   "cell_type": "code",
   "execution_count": null,
   "metadata": {
    "id": "mOHjz_DS2UTf"
   },
   "outputs": [],
   "source": [
    "# Split a dataset into k folds\n",
    "def cross_validation_split(dataset, n_folds):\n",
    "  dataset_split = list()\n",
    "  dataset_copy = list(dataset)\n",
    "  fold_size = int(len(dataset) / n_folds)\n",
    "  for _ in range(n_folds):\n",
    "    fold = list()\n",
    "    while len(fold) < fold_size:\n",
    "      index = randrange(len(dataset_copy))\n",
    "      fold.append(dataset_copy.pop(index))\n",
    "    dataset_split.append(fold)\n",
    "  # print(\"dataset split\", dataset_split)\n",
    "  return dataset_split"
   ]
  },
  {
   "cell_type": "code",
   "execution_count": null,
   "metadata": {
    "id": "OuLi-KaH3k8t"
   },
   "outputs": [],
   "source": [
    "# Calculate accuracy percentage\n",
    "def accuracy_metric(actual, predicted):\n",
    "\tcorrect = 0\n",
    "\tfor i in range(len(actual)):\n",
    "\t\tif actual[i] == predicted[i]:\n",
    "\t\t\tcorrect += 1\n",
    "\treturn correct / float(len(actual)) * 100.0"
   ]
  },
  {
   "cell_type": "code",
   "execution_count": null,
   "metadata": {
    "id": "Li3ElAAg30rF"
   },
   "outputs": [],
   "source": [
    "# Evaluate an algorithm using a cross validation split\n",
    "def evaluate_algorithm(dataset, algorithm, n_folds, *args):\n",
    "  folds = cross_validation_split(dataset, n_folds)\n",
    "  scores = list()\n",
    "  for fold in folds:\n",
    "    train_set = list(folds)\n",
    "    train_set.remove(fold)\n",
    "    train_set = sum(train_set, [])\n",
    "    test_set = list()\n",
    "    for row in fold:\n",
    "      row_copy = list(row)\n",
    "      test_set.append(row_copy)\n",
    "      row_copy[-1] = None\n",
    "    predicted = algorithm(train_set, test_set, *args)\n",
    "    actual = [row[-1] for row in fold]\n",
    "    accuracy = accuracy_metric(actual, predicted)\n",
    "    scores.append(accuracy)\n",
    "    #print(\"trainset: \", train_set)\n",
    "    #print(\"testset: \", test_set)\n",
    "  return scores"
   ]
  },
  {
   "cell_type": "code",
   "execution_count": null,
   "metadata": {
    "id": "CNqU0HoC5Ow4"
   },
   "outputs": [],
   "source": [
    "# Calculate the Euclidean distance between two vectors\n",
    "def euclidean_distance(row1, row2):\n",
    "    distance = 0.0\n",
    "    for i in range(len(row1)-1):                        #edited - perulangan dimulai dari i = 1, bukan 0. Karena data pertama adalah nilai class\n",
    "         distance += (row1[i] - row2[i])**2              #edited\n",
    "    #for i in range(0, len(row1)-1):\n",
    "    #     distance += (row1[i] - row2[i])**2\n",
    "    #print(\"distance \", sqrt(distance))\n",
    "    return sqrt(distance)"
   ]
  },
  {
   "cell_type": "code",
   "execution_count": null,
   "metadata": {
    "id": "OsQaiOcU55-L"
   },
   "outputs": [],
   "source": [
    "# Locate the most similar neighbors\n",
    "def get_neighbors(train, test_row, num_neighbors):\n",
    "  distances = list()\n",
    "  for train_row in train:\n",
    "    dist = euclidean_distance(test_row, train_row)\n",
    "    distances.append((train_row, dist))\n",
    "  distances.sort(key=lambda tup: tup[1])\n",
    "  neighbors = list()\n",
    "  for i in range(num_neighbors):\n",
    "    neighbors.append(distances[i][0])\n",
    "  #print(\"neighbors: \", neighbors)\n",
    "  return neighbors"
   ]
  },
  {
   "cell_type": "code",
   "execution_count": null,
   "metadata": {
    "id": "2_L7RCke6gBs"
   },
   "outputs": [],
   "source": [
    "# Make a prediction with neighbors\n",
    "def predict_classification(train, test_row, num_neighbors):\n",
    "  neighbors = get_neighbors(train, test_row, num_neighbors)\n",
    "  output_values = [row[-1] for row in neighbors]\n",
    "  prediction = max(set(output_values), key=output_values.count)\n",
    "  return prediction"
   ]
  },
  {
   "cell_type": "code",
   "execution_count": null,
   "metadata": {
    "id": "Ih_F-eLj6_C_"
   },
   "outputs": [],
   "source": [
    "# kNN Algorithm\n",
    "def k_nearest_neighbors(train, test, num_neighbors):\n",
    "\tpredictions = list()\n",
    "\tfor row in test:\n",
    "\t\toutput = predict_classification(train, row, num_neighbors)\n",
    "\t\tpredictions.append(output)\n",
    "\treturn(predictions)"
   ]
  },
  {
   "cell_type": "code",
   "execution_count": null,
   "metadata": {
    "colab": {
     "base_uri": "https://localhost:8080/"
    },
    "id": "oyvxPHQt7UpN",
    "outputId": "354b4352-64e5-411c-bc87-6113142d1d41"
   },
   "outputs": [
    {
     "name": "stdout",
     "output_type": "stream",
     "text": [
      "Scores: [53.49794238683128, 44.8559670781893, 52.674897119341566, 45.884773662551446, 50.41152263374485, 48.35390946502058, 48.76543209876543, 46.913580246913575, 46.913580246913575, 51.440329218106996]\n",
      "Mean Accuracy: 48.971%\n"
     ]
    }
   ],
   "source": [
    "# Test the kNN on dataset\n",
    "seed(1)\n",
    "filename = 'winequality-white.csv'\n",
    "dataset = load_csv(filename)\n",
    "for i in range(len(dataset[0])-1):\n",
    "  str_column_to_float(dataset, i)\n",
    "# convert class column to integers\n",
    "str_column_to_int(dataset, len(dataset[0])-1)\n",
    "# evaluate algorithm\n",
    "n_folds = 10\n",
    "num_neighbors = 5\n",
    "scores = evaluate_algorithm(dataset, k_nearest_neighbors, n_folds, num_neighbors)\n",
    "print('Scores: %s' % scores)\n",
    "print('Mean Accuracy: %.3f%%' % (sum(scores)/float(len(scores))))"
   ]
  },
  {
   "cell_type": "code",
   "execution_count": null,
   "metadata": {
    "id": "mc2y8G6KFbgT"
   },
   "outputs": [],
   "source": []
  }
 ],
 "metadata": {
  "colab": {
   "provenance": []
  },
  "kernelspec": {
   "display_name": "Python 3 (ipykernel)",
   "language": "python",
   "name": "python3"
  },
  "language_info": {
   "codemirror_mode": {
    "name": "ipython",
    "version": 3
   },
   "file_extension": ".py",
   "mimetype": "text/x-python",
   "name": "python",
   "nbconvert_exporter": "python",
   "pygments_lexer": "ipython3",
   "version": "3.9.13"
  }
 },
 "nbformat": 4,
 "nbformat_minor": 1
}
