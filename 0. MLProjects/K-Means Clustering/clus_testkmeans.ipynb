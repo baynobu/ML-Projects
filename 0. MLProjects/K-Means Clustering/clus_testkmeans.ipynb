{
 "cells": [
  {
   "cell_type": "code",
   "execution_count": null,
   "metadata": {
    "id": "LGFhAhOUnJ-n"
   },
   "outputs": [],
   "source": [
    "import numpy as np\n",
    "import pandas as pd\n",
    "\n",
    "def k_means_clustering(data, k, max_iterations=100):\n",
    "    # Memilih acak k titik sebagai centroids awal\n",
    "    centroids = data[np.random.randint(0, data.shape[0], k), :]\n",
    "\n",
    "    for i in range(max_iterations):\n",
    "        # Menghitung jarak data ke setiap centroid\n",
    "        distances = np.array([np.linalg.norm(data - centroid, axis=1) for centroid in centroids])\n",
    "\n",
    "        # Memasukkan data ke cluster dengan jarak terdekat\n",
    "        clusters = np.argmin(distances, axis=0)\n",
    "\n",
    "        # Menghitung centroid baru dari rata-rata setiap cluster\n",
    "        new_centroids = np.array([data[clusters == j].mean(axis=0) for j in range(k)])\n",
    "\n",
    "        # Jika centroid tidak berubah, loop selesai\n",
    "        if np.all(centroids == new_centroids):\n",
    "            break\n",
    "\n",
    "        centroids = new_centroids\n",
    "\n",
    "    return clusters, centroids\n",
    "\n",
    "# Contoh penggunaan\n",
    "df = pd.read_csv(\"datasetlks.csv\")\n",
    "data = df.values\n",
    "clusters, centroids = k_means_clustering(data, k=3)\n"
   ]
  },
  {
   "cell_type": "code",
   "execution_count": null,
   "metadata": {
    "colab": {
     "base_uri": "https://localhost:8080/",
     "height": 265
    },
    "id": "FGQsgIa7nNLp",
    "outputId": "0de148e7-587b-4484-c9a9-d8915fb9161e"
   },
   "outputs": [
    {
     "data": {
      "image/png": "[encoded data removed]",
      "text/plain": [
       "<Figure size 432x288 with 1 Axes>"
      ]
     },
     "metadata": {
      "needs_background": "light"
     },
     "output_type": "display_data"
    }
   ],
   "source": [
    "import numpy as np\n",
    "import pandas as pd\n",
    "import matplotlib.pyplot as plt\n",
    "\n",
    "def euclidean_distance(x1, x2):\n",
    "    return np.sqrt(np.sum((x1 - x2) ** 2))\n",
    "\n",
    "def initialize_centroids(X, k):\n",
    "    m, n = X.shape\n",
    "    centroids = np.zeros((k, n))\n",
    "    idx = np.random.randint(0, m, k)\n",
    "\n",
    "    for i in range(k):\n",
    "        centroids[i] = X[idx[i]]\n",
    "    return centroids\n",
    "\n",
    "def k_means(X, k, max_iterations=100):\n",
    "    m, n = X.shape\n",
    "    centroids = initialize_centroids(X, k)\n",
    "    previous_centroids = np.zeros((k, n))\n",
    "    belongs_to = np.zeros((m,))\n",
    "\n",
    "    for iteration in range(max_iterations):\n",
    "        for i in range(m):\n",
    "            min_distance = 100000\n",
    "            for j in range(k):\n",
    "                distance = euclidean_distance(X[i], centroids[j])\n",
    "                if distance < min_distance:\n",
    "                    min_distance = distance\n",
    "                    belongs_to[i] = j\n",
    "\n",
    "        previous_centroids = np.copy(centroids)\n",
    "\n",
    "        for i in range(k):\n",
    "            points = [X[j] for j in range(len(X)) if belongs_to[j] == i]\n",
    "            centroids[i] = np.mean(points, axis=0)\n",
    "\n",
    "        if np.array_equal(centroids, previous_centroids):\n",
    "            break\n",
    "    return centroids, belongs_to\n",
    "\n",
    "def plot_clusters(X, belongs_to, centroids):\n",
    "    colors = ['r', 'g', 'b', 'y', 'c', 'm']\n",
    "    fig, ax = plt.subplots()\n",
    "\n",
    "    for i in range(len(centroids)):\n",
    "        points = np.array([X[j] for j in range(len(X)) if belongs_to[j] == i])\n",
    "        ax.scatter(points[:, 0], points[:, 1], s=7, c=colors[i])\n",
    "    ax.scatter(centroids[:, 0], centroids[:, 1], marker='*', s=200, linewidths=3)\n",
    "\n",
    "    plt.show()\n",
    "\n",
    "if __name__ == '__main__':\n",
    "    X = np.array([[1, 2], [1.5, 1.8], [5, 8], [8, 8], [1, 0.6], [9, 11]])\n",
    "    centroids, belongs_to = k_means(X, 2)\n",
    "    plot_clusters(X, belongs_to, centroids)\n"
   ]
  },
  {
   "cell_type": "code",
   "execution_count": null,
   "metadata": {
    "colab": {
     "base_uri": "https://localhost:8080/",
     "height": 268
    },
    "id": "-T7Ej_jEpxL3",
    "outputId": "451888d7-2c13-42cd-8210-139c26188b4f"
   },
   "outputs": [
    {
     "data": {
      "image/png": "[encoded data removed]",
      "text/plain": [
       "<Figure size 432x288 with 1 Axes>"
      ]
     },
     "metadata": {
      "needs_background": "light"
     },
     "output_type": "display_data"
    }
   ],
   "source": [
    "import numpy as np\n",
    "import pandas as pd\n",
    "import matplotlib.pyplot as plt\n",
    "\n",
    "# Load iris dataset\n",
    "iris = pd.read_csv(\"https://archive.ics.uci.edu/ml/machine-learning-databases/iris/iris.data\")\n",
    "# iris = pd.read_csv(\"datasetlks.csv\")\n",
    "\n",
    "# Extract features from the dataset\n",
    "features = iris.iloc[:, :-1].values\n",
    "\n",
    "# Use Numpy's kmeans function\n",
    "from numpy.linalg import norm\n",
    "\n",
    "def kmeans(X, K, max_iters = 100):\n",
    "    N, D = X.shape\n",
    "\n",
    "    # randomly select initial centroids\n",
    "    idx = np.random.choice(N, K, replace=False)\n",
    "    centroids = X[idx]\n",
    "\n",
    "    for i in range(max_iters):\n",
    "        # Compute distances between each data point and the centroids\n",
    "        distances = np.array([norm(X - centroid, axis=1) for centroid in centroids])\n",
    "\n",
    "        # Assign each data point to the closest centroid\n",
    "        labels = np.argmin(distances, axis=0)\n",
    "\n",
    "        # Compute the new centroids based on the mean of the assigned data points\n",
    "        new_centroids = np.array([X[labels == k].mean(axis=0) for k in range(K)])\n",
    "\n",
    "        # Check if the centroids have moved\n",
    "        if np.allclose(centroids, new_centroids):\n",
    "            break\n",
    "\n",
    "        centroids = new_centroids\n",
    "\n",
    "    return centroids, labels\n",
    "\n",
    "K = 3\n",
    "centroids, labels = kmeans(features, K)\n",
    "\n",
    "# Plot the results\n",
    "colors = ['red', 'green', 'blue']\n",
    "for k in range(K):\n",
    "    mask = labels == k\n",
    "    plt.scatter(features[mask, 0], features[mask, 1], c=colors[k], s=30)\n",
    "plt.scatter(centroids[:, 0], centroids[:, 1], marker='x', s=200, linewidths=3, color='black', zorder=10)\n",
    "plt.show()\n"
   ]
  },
  {
   "cell_type": "code",
   "execution_count": null,
   "metadata": {
    "colab": {
     "base_uri": "https://localhost:8080/",
     "height": 295
    },
    "id": "iQhW_vTLp3iC",
    "outputId": "a523d269-0818-4c7e-fcd7-99bb3839bb27"
   },
   "outputs": [
    {
     "data": {
      "image/png": "[encoded data removed]",
      "text/plain": [
       "<Figure size 432x288 with 1 Axes>"
      ]
     },
     "metadata": {
      "needs_background": "light"
     },
     "output_type": "display_data"
    }
   ],
   "source": [
    "import pandas as pd\n",
    "import numpy as np\n",
    "import matplotlib.pyplot as plt\n",
    "from sklearn.cluster import KMeans\n",
    "\n",
    "# Load dataset\n",
    "df = pd.read_csv(\"iris.csv\")\n",
    "\n",
    "# Extract features\n",
    "X = df.iloc[:, [0, 1]].values\n",
    "\n",
    "# Fit KMeans to the dataset\n",
    "kmeans = KMeans(n_clusters=3, init='k-means++', max_iter=300, n_init=10, random_state=0)\n",
    "y_kmeans = kmeans.fit_predict(X)\n",
    "\n",
    "# Visualize the result\n",
    "plt.scatter(X[y_kmeans == 0, 0], X[y_kmeans == 0, 1], s = 100, c = 'red', label = 'Cluster 1')\n",
    "plt.scatter(X[y_kmeans == 1, 0], X[y_kmeans == 1, 1], s = 100, c = 'blue', label = 'Cluster 2')\n",
    "plt.scatter(X[y_kmeans == 2, 0], X[y_kmeans == 2, 1], s = 100, c = 'green', label = 'Cluster 3')\n",
    "plt.scatter(kmeans.cluster_centers_[:, 0], kmeans.cluster_centers_[:, 1], s = 300, c = 'yellow', label = 'Centroids')\n",
    "plt.title('Clusters of customers')\n",
    "plt.xlabel('Annual Income (k$)')\n",
    "plt.ylabel('Spending Score (1-100)')\n",
    "plt.legend()\n",
    "plt.show()\n"
   ]
  },
  {
   "cell_type": "code",
   "execution_count": null,
   "metadata": {
    "id": "3CpaXH39qOQ6"
   },
   "outputs": [],
   "source": []
  }
 ],
 "metadata": {
  "colab": {
   "provenance": []
  },
  "kernelspec": {
   "display_name": "Python 3 (ipykernel)",
   "language": "python",
   "name": "python3"
  },
  "language_info": {
   "codemirror_mode": {
    "name": "ipython",
    "version": 3
   },
   "file_extension": ".py",
   "mimetype": "text/x-python",
   "name": "python",
   "nbconvert_exporter": "python",
   "pygments_lexer": "ipython3",
   "version": "3.9.13"
  }
 },
 "nbformat": 4,
 "nbformat_minor": 1
}
